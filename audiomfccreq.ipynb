{
  "nbformat": 4,
  "nbformat_minor": 0,
  "metadata": {
    "colab": {
      "name": "audiomfccreq.ipynb",
      "provenance": [],
      "machine_shape": "hm",
      "collapsed_sections": [],
      "authorship_tag": "ABX9TyOvE6vdJ1p7ykOA+vtTMHhq",
      "include_colab_link": true
    },
    "kernelspec": {
      "name": "python3",
      "display_name": "Python 3"
    },
    "language_info": {
      "name": "python"
    },
    "accelerator": "GPU"
  },
  "cells": [
    {
      "cell_type": "markdown",
      "metadata": {
        "id": "view-in-github",
        "colab_type": "text"
      },
      "source": [
        "<a href=\"https://colab.research.google.com/github/GGANCC1/voice_emotion_recognition/blob/main/audiomfccreq.ipynb\" target=\"_parent\"><img src=\"https://colab.research.google.com/assets/colab-badge.svg\" alt=\"Open In Colab\"/></a>"
      ]
    },
    {
      "cell_type": "code",
      "source": [
        "# 총 길이   : 194899.7973333329\n",
        "# 파일 갯수 : 33980\n",
        "# 평균 길이 : 5.735720933882663\n",
        "#구글 드라이브 연동\n",
        "from google.colab import drive\n",
        "drive.mount('/content/drive/')"
      ],
      "metadata": {
        "id": "2Jd94xC8tdVd",
        "colab": {
          "base_uri": "https://localhost:8080/"
        },
        "outputId": "27f61260-d2e6-4320-ff32-5eb67c665c86"
      },
      "execution_count": null,
      "outputs": [
        {
          "output_type": "stream",
          "name": "stdout",
          "text": [
            "Mounted at /content/drive/\n"
          ]
        }
      ]
    },
    {
      "cell_type": "code",
      "source": [
        "gpu_info = !nvidia-smi\n",
        "gpu_info = '\\n'.join(gpu_info)\n",
        "if gpu_info.find('failed') >= 0:\n",
        "  print('Not connected to a GPU')\n",
        "else:\n",
        "  print(gpu_info)"
      ],
      "metadata": {
        "id": "1dfCLzG4rJTv",
        "colab": {
          "base_uri": "https://localhost:8080/"
        },
        "outputId": "2eea27f6-2f20-4b36-b145-b0ef25109a04"
      },
      "execution_count": null,
      "outputs": [
        {
          "output_type": "stream",
          "name": "stdout",
          "text": [
            "Mon Apr 25 06:30:54 2022       \n",
            "+-----------------------------------------------------------------------------+\n",
            "| NVIDIA-SMI 460.32.03    Driver Version: 460.32.03    CUDA Version: 11.2     |\n",
            "|-------------------------------+----------------------+----------------------+\n",
            "| GPU  Name        Persistence-M| Bus-Id        Disp.A | Volatile Uncorr. ECC |\n",
            "| Fan  Temp  Perf  Pwr:Usage/Cap|         Memory-Usage | GPU-Util  Compute M. |\n",
            "|                               |                      |               MIG M. |\n",
            "|===============================+======================+======================|\n",
            "|   0  Tesla T4            Off  | 00000000:00:04.0 Off |                    0 |\n",
            "| N/A   36C    P8     9W /  70W |      0MiB / 15109MiB |      0%      Default |\n",
            "|                               |                      |                  N/A |\n",
            "+-------------------------------+----------------------+----------------------+\n",
            "                                                                               \n",
            "+-----------------------------------------------------------------------------+\n",
            "| Processes:                                                                  |\n",
            "|  GPU   GI   CI        PID   Type   Process name                  GPU Memory |\n",
            "|        ID   ID                                                   Usage      |\n",
            "|=============================================================================|\n",
            "|  No running processes found                                                 |\n",
            "+-----------------------------------------------------------------------------+\n"
          ]
        }
      ]
    },
    {
      "cell_type": "code",
      "source": [
        "from psutil import virtual_memory\n",
        "ram_gb = virtual_memory().total / 1e9\n",
        "print('Your runtime has {:.1f} gigabytes of available RAM\\n'.format(ram_gb))\n",
        "\n",
        "if ram_gb < 20:\n",
        "  print('Not using a high-RAM runtime')\n",
        "else:\n",
        "  print('You are using a high-RAM runtime!')"
      ],
      "metadata": {
        "id": "ck3tZzZzrN5G",
        "colab": {
          "base_uri": "https://localhost:8080/"
        },
        "outputId": "b8e83588-a1b6-4589-8dc4-bfa811021730"
      },
      "execution_count": null,
      "outputs": [
        {
          "output_type": "stream",
          "name": "stdout",
          "text": [
            "Your runtime has 27.3 gigabytes of available RAM\n",
            "\n",
            "You are using a high-RAM runtime!\n"
          ]
        }
      ]
    },
    {
      "cell_type": "code",
      "source": [
        "import torch\n",
        "torch.cuda.is_available() "
      ],
      "metadata": {
        "colab": {
          "base_uri": "https://localhost:8080/"
        },
        "id": "MOVafQr3rVxH",
        "outputId": "5418e476-3efd-49f2-db7c-07eee71c0a8b"
      },
      "execution_count": null,
      "outputs": [
        {
          "output_type": "execute_result",
          "data": {
            "text/plain": [
              "True"
            ]
          },
          "metadata": {},
          "execution_count": 4
        }
      ]
    },
    {
      "cell_type": "code",
      "source": [
        "# import package\n",
        "import os\n",
        "import gc\n",
        "import glob\n",
        "import librosa\n",
        "import numpy as np\n",
        "import pandas as pd\n",
        "import pickle\n",
        "\n",
        "import tensorflow as tf\n",
        "from tensorflow import keras\n",
        "from tensorflow.keras import layers \n",
        "\n",
        "from sklearn.preprocessing import LabelEncoder\n",
        "from sklearn.model_selection import train_test_split"
      ],
      "metadata": {
        "id": "8G_Mky7RrOqG"
      },
      "execution_count": null,
      "outputs": []
    },
    {
      "cell_type": "code",
      "source": [
        "import pandas as pd\n",
        "from glob import glob\n",
        "from collections import Counter\n",
        "\n",
        "AUDIO_PATH = '/content/drive/MyDrive/감정 분류를 위한 대화 음성 데이터셋/4차년도+5차년도_2차/'\n",
        "\n",
        "files = glob('/content/drive/MyDrive/감정 분류를 위한 대화 음성 데이터셋/' + '*.csv')\n",
        "\n",
        "temp = []\n",
        "for i in files:\n",
        "  temp.append(pd.read_csv(i, encoding='cp949'))\n",
        "text_emotion_data = pd.concat(temp)\n",
        "text_emotion_data = text_emotion_data.reset_index(drop=True)\n",
        "\n",
        "print(len(text_emotion_data))\n",
        "\n",
        "text_emotion_data['1번 감정'] = text_emotion_data['1번 감정'].str.upper()\n",
        "text_emotion_data['2번 감정'] = text_emotion_data['2번 감정'].str.upper()\n",
        "text_emotion_data['3번 감정'] = text_emotion_data['3번 감정'].str.upper()\n",
        "text_emotion_data['4번 감정'] = text_emotion_data['4번 감정'].str.upper()\n",
        "text_emotion_data['5번 감정'] = text_emotion_data['5번 감정'].str.upper()\n",
        "text_emotion_data['label'] = text_emotion_data.apply(lambda row : Counter([row['1번 감정'], row['2번 감정'], row['3번 감정'], row['4번 감정'], row['5번 감정']]).most_common(1)[0][0], axis=1)\n",
        "\n",
        "text_emotion_data.loc[(text_emotion_data['label'] == \"FEAR\"), 'label'] = 0  #공포 => 0\n",
        "text_emotion_data.loc[(text_emotion_data['label'] == \"SURPRISE\"), 'label'] = 1  #놀람 => 1\n",
        "text_emotion_data.loc[(text_emotion_data['label'] == \"ANGRY\"), 'label'] = 2  #분노 => 2\n",
        "text_emotion_data.loc[(text_emotion_data['label'] == \"SADNESS\"), 'label'] = 3  #슬픔 => 3\n",
        "text_emotion_data.loc[(text_emotion_data['label'] == \"NEUTRAL\"), 'label'] = 4  #중립 => 4\n",
        "text_emotion_data.loc[(text_emotion_data['label'] == \"HAPPINESS\"), 'label'] = 5  #행복 => 5\n",
        "text_emotion_data.loc[(text_emotion_data['label'] == \"DISGUST\"), 'label'] = 6  #혐오 => 6\n",
        "\n",
        "## 파일명이랑 다른 wav_id 매핑\n",
        "wav_id_map = '''5e38d5fe05fef317e874c705\t5e3292655807b852d9e03896\n",
        "5e39383fdbc4b7182a6aa5f4\t5e2ad43e5807b852d9e020dc\n",
        "5e38d655dbc4b7182a6aa405\t5e3292825807b852d9e0389a\n",
        "5e37e25905fef317e874c12e\t5e33638b5807b852d9e04aeb\n",
        "5e38a1d805fef317e874c5f7\t5e298bc45807b852d9e01a10\n",
        "5e38d5c133e9ad176cc9b8e5\t5e32924e5807b852d9e03894\n",
        "5e393e55ee8206179943d383\t5e3161c65807b852d9e032af\n",
        "5e37da3e33e9ad176cc9b2b1\t5e2998b85807b852d9e01b02\n",
        "5e3937ab05fef317e874c913\t5e2ad4145807b852d9e020d9\n",
        "5e38a184c8c25f16cd145d22\t5e298b9f5807b852d9e01a0f\n",
        "5e37def1dbc4b7182a6a9e44\t5e2979c25807b852d9e018d5\n",
        "5e380ef305fef317e874c3b5\t5e315dca5807b852d9e03275\n",
        "5e37e2f005fef317e874c13e\t5e33a9d35807b852d9e050f4\n",
        "5e38a2037995ef170fc0f96c\t5e298bdc5807b852d9e01a11\n",
        "5e38a219c8c25f16cd145d25\t5e298c085807b852d9e01a12\n",
        "5e393ea333e9ad176cc9bae6\t5e31622f5807b852d9e032ba'''.split('\\n')\n",
        "wav_id_map = {ids.split('\\t')[1]:ids.split('\\t')[0] for ids in wav_id_map}\n",
        "text_emotion_data['wav_id'] = text_emotion_data['wav_id'].apply(lambda wid: wav_id_map[wid] if wid in wav_id_map else wid)\n",
        "\n",
        "text_emotion_data['label'].value_counts().plot(kind='bar')"
      ],
      "metadata": {
        "colab": {
          "base_uri": "https://localhost:8080/",
          "height": 299
        },
        "id": "Rchb0cyyrQaG",
        "outputId": "76ba8f31-4126-4734-e514-b5fb1bfbc615"
      },
      "execution_count": null,
      "outputs": [
        {
          "output_type": "stream",
          "name": "stdout",
          "text": [
            "43991\n"
          ]
        },
        {
          "output_type": "execute_result",
          "data": {
            "text/plain": [
              "<matplotlib.axes._subplots.AxesSubplot at 0x7f30deb2d190>"
            ]
          },
          "metadata": {},
          "execution_count": 7
        },
        {
          "output_type": "display_data",
          "data": {
            "text/plain": [
              "<Figure size 432x288 with 1 Axes>"
            ],
            "image/png": "[encoded data removed]"
          },
          "metadata": {
            "needs_background": "light"
          }
        }
      ]
    },
    {
      "cell_type": "code",
      "source": [
        "wav_list = text_emotion_data[\"wav_id\"].tolist()\n",
        "label_list = text_emotion_data[\"label\"].tolist()\n",
        "\n",
        "del text_emotion_data\n",
        "gc.collect()"
      ],
      "metadata": {
        "colab": {
          "base_uri": "https://localhost:8080/"
        },
        "id": "6VlS8Llf3LYG",
        "outputId": "8fcb2846-df52-47a9-f86c-1ef13d428289"
      },
      "execution_count": null,
      "outputs": [
        {
          "output_type": "execute_result",
          "data": {
            "text/plain": [
              "103"
            ]
          },
          "metadata": {},
          "execution_count": 8
        }
      ]
    },
    {
      "cell_type": "code",
      "source": [
        "def get_label(filename):\n",
        "    idx = wav_list.index(filename)\n",
        "    return label_list[idx]"
      ],
      "metadata": {
        "id": "DICn554D3cZd"
      },
      "execution_count": null,
      "outputs": []
    },
    {
      "cell_type": "code",
      "source": [
        "from tensorflow.keras.preprocessing.sequence import pad_sequences\n",
        "\n",
        "max_pad_len = 1000\n",
        "\n",
        "def extract_feature(file_name):\n",
        "    try:\n",
        "        audio, sr = librosa.load(AUDIO_PATH + file_name + '.wav', res_type='kaiser_fast')\n",
        "        mfccs = librosa.feature.mfcc(y=audio, sr=sr, n_mfcc=100)\n",
        "        padded_mfccs = pad_sequences(mfccs, padding='post', maxlen=max_pad_len)     \n",
        "    except Exception as e:\n",
        "        print(\"Error encountered while parsing file: \", file_name)\n",
        "        print(e);\n",
        "        return None\n",
        "    return padded_mfccs"
      ],
      "metadata": {
        "id": "C6JNHY2rvv9n"
      },
      "execution_count": null,
      "outputs": []
    },
    {
      "cell_type": "code",
      "source": [
        "features = []\n",
        "count = 0\n",
        "observed_emotions = [2, 3, 4, 5]\n",
        "\n",
        "for file_name in wav_list:\n",
        "  class_label = get_label(file_name)\n",
        "  if class_label not in observed_emotions:\n",
        "    continue\n",
        "  data = extract_feature(file_name)\n",
        "  features.append([data, class_label])\n",
        "  count+=1\n",
        "  print(count)\n",
        "  \n",
        "# Convert into a Panda dataframe \n",
        "featuresdf = pd.DataFrame(features, columns=['feature','class_label'])\n",
        "\n",
        "del features\n",
        "gc.collect()"
      ],
      "metadata": {
        "id": "i04sHwpaPugW"
      },
      "execution_count": null,
      "outputs": []
    },
    {
      "cell_type": "code",
      "source": [
        "featuresdf"
      ],
      "metadata": {
        "colab": {
          "base_uri": "https://localhost:8080/",
          "height": 424
        },
        "id": "NV0g9rpk9-6Q",
        "outputId": "f7f2f5d6-5a58-425a-8c92-f40ea1454c8d"
      },
      "execution_count": null,
      "outputs": [
        {
          "output_type": "execute_result",
          "data": {
            "text/plain": [
              "                                                 feature  class_label\n",
              "0      [[-639, -639, -639, -639, -639, -635, -634, -6...            2\n",
              "1      [[-657, -657, -657, -650, -535, -491, -492, -4...            3\n",
              "2      [[-649, -649, -623, -602, -599, -596, -591, -5...            3\n",
              "3      [[-630, -630, -630, -630, -628, -621, -618, -6...            2\n",
              "4      [[-649, -649, -649, -642, -608, -595, -591, -5...            3\n",
              "...                                                  ...          ...\n",
              "36908  [[-896, -896, -896, -891, -830, -811, -823, -8...            3\n",
              "36909  [[-926, -926, -926, -922, -878, -840, -814, -8...            3\n",
              "36910  [[-870, -870, -870, -852, -744, -715, -747, -7...            3\n",
              "36911  [[-906, -906, -906, -901, -867, -835, -828, -8...            3\n",
              "36912  [[-827, -827, -827, -824, -802, -792, -786, -7...            4\n",
              "\n",
              "[36913 rows x 2 columns]"
            ],
            "text/html": [
              "\n",
              "  <div id=\"df-748eb64d-3db5-4837-8760-acfefe03ec50\">\n",
              "    <div class=\"colab-df-container\">\n",
              "      <div>\n",
              "<style scoped>\n",
              "    .dataframe tbody tr th:only-of-type {\n",
              "        vertical-align: middle;\n",
              "    }\n",
              "\n",
              "    .dataframe tbody tr th {\n",
              "        vertical-align: top;\n",
              "    }\n",
              "\n",
              "    .dataframe thead th {\n",
              "        text-align: right;\n",
              "    }\n",
              "</style>\n",
              "<table border=\"1\" class=\"dataframe\">\n",
              "  <thead>\n",
              "    <tr style=\"text-align: right;\">\n",
              "      <th></th>\n",
              "      <th>feature</th>\n",
              "      <th>class_label</th>\n",
              "    </tr>\n",
              "  </thead>\n",
              "  <tbody>\n",
              "    <tr>\n",
              "      <th>0</th>\n",
              "      <td>[[-639, -639, -639, -639, -639, -635, -634, -6...</td>\n",
              "      <td>2</td>\n",
              "    </tr>\n",
              "    <tr>\n",
              "      <th>1</th>\n",
              "      <td>[[-657, -657, -657, -650, -535, -491, -492, -4...</td>\n",
              "      <td>3</td>\n",
              "    </tr>\n",
              "    <tr>\n",
              "      <th>2</th>\n",
              "      <td>[[-649, -649, -623, -602, -599, -596, -591, -5...</td>\n",
              "      <td>3</td>\n",
              "    </tr>\n",
              "    <tr>\n",
              "      <th>3</th>\n",
              "      <td>[[-630, -630, -630, -630, -628, -621, -618, -6...</td>\n",
              "      <td>2</td>\n",
              "    </tr>\n",
              "    <tr>\n",
              "      <th>4</th>\n",
              "      <td>[[-649, -649, -649, -642, -608, -595, -591, -5...</td>\n",
              "      <td>3</td>\n",
              "    </tr>\n",
              "    <tr>\n",
              "      <th>...</th>\n",
              "      <td>...</td>\n",
              "      <td>...</td>\n",
              "    </tr>\n",
              "    <tr>\n",
              "      <th>36908</th>\n",
              "      <td>[[-896, -896, -896, -891, -830, -811, -823, -8...</td>\n",
              "      <td>3</td>\n",
              "    </tr>\n",
              "    <tr>\n",
              "      <th>36909</th>\n",
              "      <td>[[-926, -926, -926, -922, -878, -840, -814, -8...</td>\n",
              "      <td>3</td>\n",
              "    </tr>\n",
              "    <tr>\n",
              "      <th>36910</th>\n",
              "      <td>[[-870, -870, -870, -852, -744, -715, -747, -7...</td>\n",
              "      <td>3</td>\n",
              "    </tr>\n",
              "    <tr>\n",
              "      <th>36911</th>\n",
              "      <td>[[-906, -906, -906, -901, -867, -835, -828, -8...</td>\n",
              "      <td>3</td>\n",
              "    </tr>\n",
              "    <tr>\n",
              "      <th>36912</th>\n",
              "      <td>[[-827, -827, -827, -824, -802, -792, -786, -7...</td>\n",
              "      <td>4</td>\n",
              "    </tr>\n",
              "  </tbody>\n",
              "</table>\n",
              "<p>36913 rows × 2 columns</p>\n",
              "</div>\n",
              "      <button class=\"colab-df-convert\" onclick=\"convertToInteractive('df-748eb64d-3db5-4837-8760-acfefe03ec50')\"\n",
              "              title=\"Convert this dataframe to an interactive table.\"\n",
              "              style=\"display:none;\">\n",
              "        \n",
              "  <svg xmlns=\"http://www.w3.org/2000/svg\" height=\"24px\"viewBox=\"0 0 24 24\"\n",
              "       width=\"24px\">\n",
              "    <path d=\"M0 0h24v24H0V0z\" fill=\"none\"/>\n",
              "    <path d=\"M18.56 5.44l.94 2.06.94-2.06 2.06-.94-2.06-.94-.94-2.06-.94 2.06-2.06.94zm-11 1L8.5 8.5l.94-2.06 2.06-.94-2.06-.94L8.5 2.5l-.94 2.06-2.06.94zm10 10l.94 2.06.94-2.06 2.06-.94-2.06-.94-.94-2.06-.94 2.06-2.06.94z\"/><path d=\"M17.41 7.96l-1.37-1.37c-.4-.4-.92-.59-1.43-.59-.52 0-1.04.2-1.43.59L10.3 9.45l-7.72 7.72c-.78.78-.78 2.05 0 2.83L4 21.41c.39.39.9.59 1.41.59.51 0 1.02-.2 1.41-.59l7.78-7.78 2.81-2.81c.8-.78.8-2.07 0-2.86zM5.41 20L4 18.59l7.72-7.72 1.47 1.35L5.41 20z\"/>\n",
              "  </svg>\n",
              "      </button>\n",
              "      \n",
              "  <style>\n",
              "    .colab-df-container {\n",
              "      display:flex;\n",
              "      flex-wrap:wrap;\n",
              "      gap: 12px;\n",
              "    }\n",
              "\n",
              "    .colab-df-convert {\n",
              "      background-color: #E8F0FE;\n",
              "      border: none;\n",
              "      border-radius: 50%;\n",
              "      cursor: pointer;\n",
              "      display: none;\n",
              "      fill: #1967D2;\n",
              "      height: 32px;\n",
              "      padding: 0 0 0 0;\n",
              "      width: 32px;\n",
              "    }\n",
              "\n",
              "    .colab-df-convert:hover {\n",
              "      background-color: #E2EBFA;\n",
              "      box-shadow: 0px 1px 2px rgba(60, 64, 67, 0.3), 0px 1px 3px 1px rgba(60, 64, 67, 0.15);\n",
              "      fill: #174EA6;\n",
              "    }\n",
              "\n",
              "    [theme=dark] .colab-df-convert {\n",
              "      background-color: #3B4455;\n",
              "      fill: #D2E3FC;\n",
              "    }\n",
              "\n",
              "    [theme=dark] .colab-df-convert:hover {\n",
              "      background-color: #434B5C;\n",
              "      box-shadow: 0px 1px 3px 1px rgba(0, 0, 0, 0.15);\n",
              "      filter: drop-shadow(0px 1px 2px rgba(0, 0, 0, 0.3));\n",
              "      fill: #FFFFFF;\n",
              "    }\n",
              "  </style>\n",
              "\n",
              "      <script>\n",
              "        const buttonEl =\n",
              "          document.querySelector('#df-748eb64d-3db5-4837-8760-acfefe03ec50 button.colab-df-convert');\n",
              "        buttonEl.style.display =\n",
              "          google.colab.kernel.accessAllowed ? 'block' : 'none';\n",
              "\n",
              "        async function convertToInteractive(key) {\n",
              "          const element = document.querySelector('#df-748eb64d-3db5-4837-8760-acfefe03ec50');\n",
              "          const dataTable =\n",
              "            await google.colab.kernel.invokeFunction('convertToInteractive',\n",
              "                                                     [key], {});\n",
              "          if (!dataTable) return;\n",
              "\n",
              "          const docLinkHtml = 'Like what you see? Visit the ' +\n",
              "            '<a target=\"_blank\" href=https://colab.research.google.com/notebooks/data_table.ipynb>data table notebook</a>'\n",
              "            + ' to learn more about interactive tables.';\n",
              "          element.innerHTML = '';\n",
              "          dataTable['output_type'] = 'display_data';\n",
              "          await google.colab.output.renderOutput(dataTable, element);\n",
              "          const docLink = document.createElement('div');\n",
              "          docLink.innerHTML = docLinkHtml;\n",
              "          element.appendChild(docLink);\n",
              "        }\n",
              "      </script>\n",
              "    </div>\n",
              "  </div>\n",
              "  "
            ]
          },
          "metadata": {},
          "execution_count": 12
        }
      ]
    },
    {
      "cell_type": "code",
      "source": [
        "# 피클로 데이터 저장\n",
        "featuresdf.to_pickle(\"/content/drive/MyDrive/감정 분류를 위한 대화 음성 데이터셋/피클/featuresdf4_5_2_4.pkl\")"
      ],
      "metadata": {
        "id": "Z_ekF8bRQzPz"
      },
      "execution_count": null,
      "outputs": []
    },
    {
      "cell_type": "code",
      "source": [
        "# 피클 데이터 로드\n",
        "featuresdf = pd.read_pickle(\"/content/drive/MyDrive/감정 분류를 위한 대화 음성 데이터셋/피클/featuresdf4_5_2_3.pkl\")"
      ],
      "metadata": {
        "id": "k04MnK1T5LaO"
      },
      "execution_count": null,
      "outputs": []
    },
    {
      "cell_type": "code",
      "source": [
        "len(featuresdf.loc[0].feature[0])"
      ],
      "metadata": {
        "colab": {
          "base_uri": "https://localhost:8080/"
        },
        "id": "fA3HPBFjw1HJ",
        "outputId": "855904db-04d4-4328-f734-a2cc943e1c60"
      },
      "execution_count": null,
      "outputs": [
        {
          "output_type": "execute_result",
          "data": {
            "text/plain": [
              "1000"
            ]
          },
          "metadata": {},
          "execution_count": 20
        }
      ]
    },
    {
      "cell_type": "code",
      "source": [
        "from tensorflow.keras.utils import to_categorical\n",
        "\n",
        "X = np.array(featuresdf.feature.tolist())\n",
        "y = np.array(featuresdf.class_label.tolist())\n",
        "\n",
        "le = LabelEncoder()\n",
        "yy = to_categorical(le.fit_transform(y))"
      ],
      "metadata": {
        "id": "sVd4hIJhReXy"
      },
      "execution_count": null,
      "outputs": []
    },
    {
      "cell_type": "code",
      "source": [
        "del featuresdf\n",
        "gc.collect()"
      ],
      "metadata": {
        "id": "s8z41RlT2cyO",
        "colab": {
          "base_uri": "https://localhost:8080/"
        },
        "outputId": "61d4f005-23a7-49ac-869c-523117d55da3"
      },
      "execution_count": null,
      "outputs": [
        {
          "output_type": "execute_result",
          "data": {
            "text/plain": [
              "252"
            ]
          },
          "metadata": {},
          "execution_count": 8
        }
      ]
    },
    {
      "cell_type": "code",
      "source": [
        "x_train, x_test, y_train, y_test = train_test_split(X, yy, test_size=0.2, random_state = 42)"
      ],
      "metadata": {
        "id": "RBXuzzidRgux"
      },
      "execution_count": null,
      "outputs": []
    },
    {
      "cell_type": "code",
      "source": [
        "n_columns = 1000\n",
        "n_row = 40       \n",
        "n_channels = 1\n",
        "n_classes = 4\n",
        "\n",
        "# input shape\n",
        "with tf.device('/device:GPU:0'):\n",
        "    x_train = tf.reshape(x_train, [-1, n_row, n_columns, n_channels])\n",
        "    x_test = tf.reshape(x_test, [-1, n_row, n_columns, n_channels])"
      ],
      "metadata": {
        "id": "aJnUkeWzRk4K"
      },
      "execution_count": null,
      "outputs": []
    },
    {
      "cell_type": "code",
      "source": [
        "model = keras.Sequential()\n",
        "\n",
        "model.add(layers.Conv2D(input_shape=(n_row, n_columns, n_channels), filters=16, kernel_size=2, activation='relu'))\n",
        "model.add(layers.MaxPooling2D(pool_size=2))\n",
        "model.add(layers.Dropout(0.2))\n",
        "model.add(layers.Conv2D(kernel_size=2, filters=32, activation='relu'))\n",
        "model.add(layers.MaxPooling2D(pool_size=2))\n",
        "model.add(layers.Dropout(0.2))\n",
        "\n",
        "model.add(layers.Conv2D(kernel_size=2, filters=64, activation='relu'))\n",
        "model.add(layers.MaxPooling2D(pool_size=2))\n",
        "model.add(layers.Dropout(0.2))\n",
        "model.add(layers.Conv2D(kernel_size=2, filters=128, activation='relu'))\n",
        "model.add(layers.MaxPooling2D(pool_size=2))\n",
        "model.add(layers.Dropout(0.2))\n",
        "\n",
        "model.add(layers.GlobalAveragePooling2D())\n",
        "model.add(tf.keras.layers.Dense(units=4, activation='softmax'))\n",
        "\n",
        "model.summary()"
      ],
      "metadata": {
        "id": "lKQgOMuuSGC5",
        "colab": {
          "base_uri": "https://localhost:8080/"
        },
        "outputId": "92b8b419-8c3a-4967-8ad3-6a1ea4bccc15"
      },
      "execution_count": null,
      "outputs": [
        {
          "output_type": "stream",
          "name": "stdout",
          "text": [
            "Model: \"sequential_10\"\n",
            "_________________________________________________________________\n",
            " Layer (type)                Output Shape              Param #   \n",
            "=================================================================\n",
            " conv2d_51 (Conv2D)          (None, 39, 999, 16)       80        \n",
            "                                                                 \n",
            " max_pooling2d_41 (MaxPoolin  (None, 19, 499, 16)      0         \n",
            " g2D)                                                            \n",
            "                                                                 \n",
            " dropout_12 (Dropout)        (None, 19, 499, 16)       0         \n",
            "                                                                 \n",
            " conv2d_52 (Conv2D)          (None, 18, 498, 32)       2080      \n",
            "                                                                 \n",
            " max_pooling2d_42 (MaxPoolin  (None, 9, 249, 32)       0         \n",
            " g2D)                                                            \n",
            "                                                                 \n",
            " dropout_13 (Dropout)        (None, 9, 249, 32)        0         \n",
            "                                                                 \n",
            " conv2d_53 (Conv2D)          (None, 8, 248, 64)        8256      \n",
            "                                                                 \n",
            " max_pooling2d_43 (MaxPoolin  (None, 4, 124, 64)       0         \n",
            " g2D)                                                            \n",
            "                                                                 \n",
            " dropout_14 (Dropout)        (None, 4, 124, 64)        0         \n",
            "                                                                 \n",
            " conv2d_54 (Conv2D)          (None, 3, 123, 128)       32896     \n",
            "                                                                 \n",
            " max_pooling2d_44 (MaxPoolin  (None, 1, 61, 128)       0         \n",
            " g2D)                                                            \n",
            "                                                                 \n",
            " dropout_15 (Dropout)        (None, 1, 61, 128)        0         \n",
            "                                                                 \n",
            " global_average_pooling2d_1   (None, 128)              0         \n",
            " (GlobalAveragePooling2D)                                        \n",
            "                                                                 \n",
            " dense_43 (Dense)            (None, 4)                 516       \n",
            "                                                                 \n",
            "=================================================================\n",
            "Total params: 43,828\n",
            "Trainable params: 43,828\n",
            "Non-trainable params: 0\n",
            "_________________________________________________________________\n"
          ]
        }
      ]
    },
    {
      "cell_type": "code",
      "source": [
        "model = keras.Sequential()\n",
        "model.add(layers.Conv2D(32, kernel_size=(3, 3), input_shape=(n_row, n_columns, n_channels), activation='relu'))\n",
        "model.add(layers.Conv2D(64, (3, 3), activation='relu'))\n",
        "model.add(layers.MaxPooling2D(pool_size=2))\n",
        "model.add(layers.Dropout(0.25))\n",
        "model.add(layers.Flatten())\n",
        "model.add(layers.Dense(128, activation='relu'))\n",
        "model.add(layers.Dropout(0.5))\n",
        "model.add(layers.Dense(n_classes, activation='softmax'))\n",
        "\n",
        "model.compile(loss='categorical_crossentropy',\n",
        "              optimizer='adam',\n",
        "              metrics=['accuracy'])\n",
        "\n",
        "model.summary()"
      ],
      "metadata": {
        "id": "sGIxhLryZavo"
      },
      "execution_count": null,
      "outputs": []
    },
    {
      "cell_type": "code",
      "source": [
        "model = keras.Sequential()\n",
        "\n",
        "model.add(layers.Conv2D(32, (3,3), activation='relu', input_shape= (n_row, n_columns, n_channels)))\n",
        "model.add(layers.MaxPool2D(2,2))\n",
        "model.add(layers.Conv2D(64, (3,3), activation='relu'))\n",
        "model.add(layers.MaxPool2D(2,2))\n",
        "model.add(layers.Conv2D(64, (3,3), activation='relu'))\n",
        "\n",
        "model.add(layers.Flatten())\n",
        "model.add(layers.Dense(64, activation='relu'))\n",
        "model.add(layers.Dense(4, activation='softmax'))\n",
        "\n",
        "model.summary()"
      ],
      "metadata": {
        "id": "epCP7gbk_xOE"
      },
      "execution_count": null,
      "outputs": []
    },
    {
      "cell_type": "code",
      "source": [
        "from keras.callbacks import EarlyStopping\n",
        "\n",
        "training_epochs = 300\n",
        "num_batch_size = 128\n",
        "\n",
        "learning_rate = 0.001\n",
        "opt = keras.optimizers.Adam(learning_rate=learning_rate)\n",
        "\n",
        "model.compile(loss='categorical_crossentropy', optimizer=opt, metrics=['accuracy'])\n",
        "\n",
        "history = model.fit(x_train, y_train, batch_size=num_batch_size, epochs=training_epochs)\n",
        "\n",
        "# early_stopping = EarlyStopping(monitor='loss', patience=100, mode='auto')\n",
        "# loss값을 모니터해서 과적합이 생기면 100번 더 돌고 끊음\n",
        "# mode=auto loss면 최저값이100번정도 반복되면 정지, acc면 최고값이 100번정도 반복되면 정지\n",
        "# mode=min, mode=max\n",
        "# model.fit(x, y, epochs=100, batch_size=num_batch_size, verbose=2, callbacks=[early_stopping])"
      ],
      "metadata": {
        "id": "Fzzrej-GSGLw"
      },
      "execution_count": null,
      "outputs": []
    },
    {
      "cell_type": "code",
      "source": [
        "import pandas as pd\n",
        "import matplotlib.pyplot as plt\n",
        "\n",
        "pd.DataFrame(history.history).plot(figsize=(8, 5))\n",
        "plt.grid(True)\n",
        "plt.gca().set_ylim(0, 1.3)\n",
        "#save_fig(\"keras_learning_curves_plot\")\n",
        "plt.show()"
      ],
      "metadata": {
        "id": "zxqydaJgSO0p",
        "colab": {
          "base_uri": "https://localhost:8080/",
          "height": 320
        },
        "outputId": "67dac313-8e51-4adb-f722-0eaa30f615fe"
      },
      "execution_count": null,
      "outputs": [
        {
          "output_type": "display_data",
          "data": {
            "text/plain": [
              "<Figure size 576x360 with 1 Axes>"
            ],
            "image/png": "[encoded data removed]"
          },
          "metadata": {
            "needs_background": "light"
          }
        }
      ]
    },
    {
      "cell_type": "code",
      "source": [
        "print('\\n# Evaluate on test data')\n",
        "results = model.evaluate(x_test, y_test, batch_size=128)\n",
        "print('test loss, test acc:', results)"
      ],
      "metadata": {
        "id": "tsXp23mGSP9x",
        "colab": {
          "base_uri": "https://localhost:8080/"
        },
        "outputId": "e7163e66-9097-47c9-9345-49a05d2c8cf5"
      },
      "execution_count": null,
      "outputs": [
        {
          "output_type": "stream",
          "name": "stdout",
          "text": [
            "\n",
            "# Evaluate on test data\n",
            "58/58 [==============================] - 2s 37ms/step - loss: 0.9209 - accuracy: 0.6245\n",
            "test loss, test acc: [0.9208711385726929, 0.6245428919792175]\n"
          ]
        }
      ]
    },
    {
      "cell_type": "code",
      "source": [
        "y_test"
      ],
      "metadata": {
        "colab": {
          "base_uri": "https://localhost:8080/"
        },
        "id": "ejHrTTXSQIMr",
        "outputId": "d953c42e-dff7-4816-8f9e-4565d9c77218"
      },
      "execution_count": null,
      "outputs": [
        {
          "output_type": "execute_result",
          "data": {
            "text/plain": [
              "array([[1., 0., 0., 0.],\n",
              "       [0., 1., 0., 0.],\n",
              "       [0., 0., 1., 0.],\n",
              "       ...,\n",
              "       [0., 0., 0., 1.],\n",
              "       [0., 1., 0., 0.],\n",
              "       [0., 1., 0., 0.]], dtype=float32)"
            ]
          },
          "metadata": {},
          "execution_count": 98
        }
      ]
    },
    {
      "cell_type": "code",
      "source": [
        "from sklearn.metrics import f1_score\n",
        "from sklearn.pipeline import Pipeline\n",
        "from sklearn.metrics import precision_score , recall_score , confusion_matrix\n",
        "\n",
        "y_pred = []\n",
        "y_true = []\n",
        "\n",
        "pred = model.predict(x_test)\n",
        "\n",
        "for list in pred:\n",
        "  for i in range(0,4):\n",
        "    if(max(list)==list[i]):\n",
        "      y_pred.append(i)\n",
        "for list in y_test:\n",
        "  for i in range(0,4):\n",
        "    if(list[i] == 1):\n",
        "      y_true.append(i)\n",
        "\n",
        "precision = precision_score(y_true, y_pred,average= \"weighted\")\n",
        "recall = recall_score(y_true, y_pred,average= \"weighted\")\n",
        "print('정밀도: {0:.4f}, 재현율: {1:.4f}'.format(precision, recall))\n",
        "print('f1-score : ' + str(f1_score(y_true, y_pred, average='weighted')))"
      ],
      "metadata": {
        "colab": {
          "base_uri": "https://localhost:8080/"
        },
        "id": "CXTBveFpvpr1",
        "outputId": "e13f92fb-f0d2-4b75-d7ca-e524710dd30a"
      },
      "execution_count": null,
      "outputs": [
        {
          "output_type": "stream",
          "name": "stdout",
          "text": [
            "정밀도: 0.6190, 재현율: 0.6245\n",
            "f1-score : 0.6108408391281119\n"
          ]
        }
      ]
    },
    {
      "cell_type": "code",
      "source": [
        "model.save(\"/content/drive/MyDrive/감정 분류를 위한 대화 음성 데이터셋/피클/sound_classifier_model\")"
      ],
      "metadata": {
        "id": "Ap_nnSSsSRcx"
      },
      "execution_count": null,
      "outputs": []
    }
  ]
}